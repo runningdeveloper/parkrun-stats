{
 "cells": [
  {
   "cell_type": "code",
   "execution_count": null,
   "metadata": {},
   "outputs": [],
   "source": [
    "import requests\n",
    "from bs4 import BeautifulSoup\n",
    "import pandas as pd\n",
    "from datetime import timedelta\n"
   ]
  },
  {
   "cell_type": "code",
   "execution_count": null,
   "metadata": {},
   "outputs": [],
   "source": [
    "def get_data(url):\n",
    "    # need to set a user agent to avoid 403 Forbidden error\n",
    "    headers = {\n",
    "        'User-Agent': 'Mozilla/5.0 (Windows NT 10.0; Win64; x64) AppleWebKit/537.36 (KHTML, like Gecko) Chrome/58.0.3029.110 Safari/537.3'\n",
    "    }\n",
    "    response = requests.get(url, headers=headers)\n",
    "\n",
    "    if response.status_code == 200:\n",
    "        # Parse the HTML content of the page with BeautifulSoup\n",
    "        soup = BeautifulSoup(response.content, 'html.parser')\n",
    "\n",
    "        # Find the first table in the page (you can refine the selection)\n",
    "        table = soup.find('table')\n",
    "\n",
    "        # Check if a table was found\n",
    "        if table:\n",
    "            # Extract rows from the table\n",
    "            rows = table.find_all('tr')\n",
    "\n",
    "            # Prepare a list to hold the data\n",
    "            data = []\n",
    "\n",
    "            # Iterate over the rows\n",
    "            for row in rows[1:]:\n",
    "                # Extract cells in the row\n",
    "                cells = row.find_all(['td', 'th'])  # Include both <td> and <th> cells\n",
    "\n",
    "                # Extract text and links from each cell\n",
    "                cell_data = []\n",
    "                for cell in cells:\n",
    "\n",
    "                    # Check if the cell contains a <div> tag\n",
    "                    if cell.find('div'):\n",
    "                        cell = cell.find('div')\n",
    "\n",
    "                    # Extract text from the cell\n",
    "                    text = cell.get_text(strip=True)\n",
    "                    \n",
    "                    # Extract link if the cell contains an <a> tag\n",
    "                    link = cell.find('a')['href'] if cell.find('a') else None\n",
    "\n",
    "                    if link and link.startswith('https://www.parkrun.co.za/albertsfarm/parkrunner/'):\n",
    "                        cell_data.append(link)\n",
    "                        cell_data.append(link.split('/')[-1])\n",
    "                    \n",
    "                    cell_data.append(text)\n",
    "                \n",
    "                # Add the row data to the main data list\n",
    "                data.append(cell_data)  \n",
    "            \n",
    "            return data\n",
    "        else:\n",
    "            print(\"No table found on the page.\")\n",
    "            return None\n",
    "    else:\n",
    "        print(f\"Failed to retrieve the page. Status code: {response.status_code}\")\n",
    "    \n",
    "    return None"
   ]
  },
  {
   "cell_type": "code",
   "execution_count": null,
   "metadata": {},
   "outputs": [],
   "source": [
    "alberts_1 = \"https://www.parkrun.co.za/albertsfarm/results/1/\"\n",
    "alberts_1_data = get_data(alberts_1)\n",
    "alberts_1_data"
   ]
  },
  {
   "cell_type": "code",
   "execution_count": null,
   "metadata": {},
   "outputs": [],
   "source": [
    "alberts_10 = \"https://www.parkrun.co.za/albertsfarm/results/438/\"\n",
    "alberts_10_data = get_data(alberts_10)\n",
    "alberts_10_data"
   ]
  },
  {
   "cell_type": "code",
   "execution_count": null,
   "metadata": {},
   "outputs": [],
   "source": [
    "def convert_time_string(time_str):\n",
    "    # Split the time string by colon\n",
    "    time_parts = time_str.split(':')\n",
    "    \n",
    "    # Determine if it's in MM:SS format or HH:MM:SS format\n",
    "    if len(time_parts) == 2:  # MM:SS\n",
    "        minutes, seconds = map(int, time_parts)\n",
    "        return timedelta(minutes=minutes, seconds=seconds)\n",
    "    elif len(time_parts) == 3:  # HH:MM:SS\n",
    "        hours, minutes, seconds = map(int, time_parts)\n",
    "        return timedelta(hours=hours, minutes=minutes, seconds=seconds)\n",
    "    else:\n",
    "        return None"
   ]
  },
  {
   "cell_type": "code",
   "execution_count": null,
   "metadata": {},
   "outputs": [],
   "source": [
    "df1 = pd.DataFrame(alberts_1_data)\n",
    "df1.columns = ['pos', 'link', 'barcode', 'name', 'gender', 'age', 'club', 'time']\n",
    "df1['barcode'] = df1['barcode'].apply(lambda x: \"A\" + x)\n",
    "# remove rows with name is None\n",
    "df1 = df1.dropna(subset=['name'])\n",
    "df1 = df1.dropna(subset=['time'])\n",
    "df1['time_delta'] = df1['time'].apply(convert_time_string)\n",
    "df1"
   ]
  },
  {
   "cell_type": "code",
   "execution_count": null,
   "metadata": {},
   "outputs": [],
   "source": [
    "df10 = pd.DataFrame(alberts_10_data)\n",
    "df10.columns = ['pos', 'link', 'barcode', 'name', 'gender', 'age', 'club', 'time']\n",
    "df10['barcode'] = df10['barcode'].apply(lambda x: \"A\" + x)\n",
    "# remove rows with name is None\n",
    "df10 = df10.dropna(subset=['name'])\n",
    "df10 = df10.dropna(subset=['time'])\n",
    "df10['time_delta'] = df10['time'].apply(convert_time_string)\n",
    "df10"
   ]
  },
  {
   "cell_type": "code",
   "execution_count": null,
   "metadata": {},
   "outputs": [],
   "source": [
    "# check who ran both\n",
    "both = pd.merge(df1, df10, on='barcode', how='inner')\n",
    "both"
   ]
  },
  {
   "cell_type": "code",
   "execution_count": null,
   "metadata": {},
   "outputs": [],
   "source": [
    "# Function to convert seconds to MM:SS format\n",
    "def format_seconds_to_mm_ss(seconds):\n",
    "    # Ensure the seconds are positive for formatting\n",
    "    abs_seconds = abs(int(seconds))\n",
    "    \n",
    "    # Calculate minutes and remaining seconds\n",
    "    minutes, sec = divmod(abs_seconds, 60)\n",
    "    \n",
    "    # Format as MM:SS\n",
    "    formatted_time = f\"{minutes:02}:{sec:02}\"\n",
    "    \n",
    "    # Add a negative sign if the original seconds were negative\n",
    "    return f\"-{formatted_time}\" if seconds < 0 else formatted_time"
   ]
  },
  {
   "cell_type": "code",
   "execution_count": null,
   "metadata": {},
   "outputs": [],
   "source": [
    "# show the difference in time_delta column\n",
    "both['time_delta_diff'] = (both['time_delta_y'] - both['time_delta_x']).apply(lambda x: x.total_seconds())\n",
    "\n",
    "both['formatted_time_diff'] = both['time_delta_diff'].apply(format_seconds_to_mm_ss)\n",
    "\n",
    "both\n"
   ]
  },
  {
   "cell_type": "code",
   "execution_count": null,
   "metadata": {},
   "outputs": [],
   "source": [
    "both_simple = both[['name_x', 'barcode', 'age_y', 'time_x', 'pos_x', 'time_y', 'pos_y', 'formatted_time_diff']]\n",
    "both_simple.columns = ['Name', 'Barcode', 'Age Group', 'Time 1', 'Pos 1', 'Time 10', 'Pos 10', 'Time Diff']\n",
    "both_simple"
   ]
  }
 ],
 "metadata": {
  "kernelspec": {
   "display_name": ".venv",
   "language": "python",
   "name": "python3"
  },
  "language_info": {
   "codemirror_mode": {
    "name": "ipython",
    "version": 3
   },
   "file_extension": ".py",
   "mimetype": "text/x-python",
   "name": "python",
   "nbconvert_exporter": "python",
   "pygments_lexer": "ipython3",
   "version": "3.12.4"
  }
 },
 "nbformat": 4,
 "nbformat_minor": 2
}
